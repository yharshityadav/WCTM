{
  "nbformat": 4,
  "nbformat_minor": 0,
  "metadata": {
    "colab": {
      "provenance": [],
      "authorship_tag": "ABX9TyMOXsRA6nqxHLJse0bvHfOh",
      "include_colab_link": true
    },
    "kernelspec": {
      "name": "python3",
      "display_name": "Python 3"
    },
    "language_info": {
      "name": "python"
    }
  },
  "cells": [
    {
      "cell_type": "markdown",
      "metadata": {
        "id": "view-in-github",
        "colab_type": "text"
      },
      "source": [
        "<a href=\"https://colab.research.google.com/github/yharshityadav/WCTM/blob/main/WCTM.ipynb\" target=\"_parent\"><img src=\"https://colab.research.google.com/assets/colab-badge.svg\" alt=\"Open In Colab\"/></a>"
      ]
    },
    {
      "cell_type": "code",
      "source": [
        "\n"
      ],
      "metadata": {
        "id": "YHKJ_AGtD8zk"
      },
      "execution_count": null,
      "outputs": []
    },
    {
      "cell_type": "code",
      "source": [
        "# Write a code of making calculator with different cases of operators and with display the result\n",
        "a = int(input(\"Enter the first number\"))\n",
        "b = int(input(\"Enter the second number\"))\n",
        "c = (input(\"Enter the operator\"))\n",
        "if c == \"+\":\n",
        "  print(a+b)\n",
        "elif c == \"-\":\n",
        "  print(a-b)\n",
        "elif c == \"*\":\n",
        "  print(a*b)\n",
        "elif c == \"/\":\n",
        "  print(a/b)"
      ],
      "metadata": {
        "colab": {
          "base_uri": "https://localhost:8080/"
        },
        "id": "0MULgozOCuVp",
        "outputId": "80ce0ad1-9537-48ed-8a5b-0a847608eb19"
      },
      "execution_count": null,
      "outputs": [
        {
          "output_type": "stream",
          "name": "stdout",
          "text": [
            "Enter the first number1\n",
            "Enter the second number2\n",
            "Enter the operator+\n",
            "3\n"
          ]
        }
      ]
    },
    {
      "cell_type": "code",
      "source": [
        "# Write a code of comparing three number and display the largest, smallest and middle number\n",
        "num1 = float(input(\"Enter the first Number:\"))\n",
        "num2 = float(input(\"Enter the second Number:\"))\n",
        "num3 = float(input(\"Enter the third Number:\"))\n",
        "if num1>num2 and num1>num3:\n",
        "  print(num1,\"is the largest number\")\n",
        "elif num2>num1 and num2>num3:\n",
        "  print(num2,\"is the largest number\")\n",
        "else:\n",
        "  print(num3,\"is the largest number\")\n",
        "if num1<num2 and num1<num3:\n",
        "  print(num1,\"is the smallest number\")\n",
        "elif num2<num1 and num1<um3:\n",
        "  print(num2,\"is the smallest number\")\n",
        "else:\n",
        "  print(num3,\"is the smallest number\")\n",
        "if num1>num2 and num1<num3:\n",
        "  print(num1,\"is the middle number\")\n",
        "elif num2>num1 and num2<num3:\n",
        "    print(num2,\"is the middle number\")\n",
        "else:\n",
        "    print(num3,\"is the middle number\")\n",
        "\n"
      ],
      "metadata": {
        "colab": {
          "base_uri": "https://localhost:8080/"
        },
        "id": "bGjTrndeBZvT",
        "outputId": "a808ead6-049f-4784-af1e-ba872ef5e068"
      },
      "execution_count": null,
      "outputs": [
        {
          "output_type": "stream",
          "name": "stdout",
          "text": [
            "Enter the first Number:1\n",
            "Enter the second Number:2\n",
            "Enter the third Number:3\n",
            "3.0 is the largest number\n",
            "1.0 is the smallest number\n",
            "2.0 is the middle number\n"
          ]
        }
      ]
    },
    {
      "cell_type": "code",
      "source": [
        "# Write a code of area of Rhombus\n",
        "d1 = float(input(\"Enter the First Diagonal of Rhombus:\"))\n",
        "d2 = float(input(\"Enter the Second Diagonal of Rhombus:\"))\n",
        "area = (d1*d2)/2\n",
        "print(\"Area of Rhombus is\",area)"
      ],
      "metadata": {
        "colab": {
          "base_uri": "https://localhost:8080/"
        },
        "id": "IYwR7ZvSBQqk",
        "outputId": "06bccb39-6bad-40d0-85e9-5ebb9d95e066"
      },
      "execution_count": null,
      "outputs": [
        {
          "output_type": "stream",
          "name": "stdout",
          "text": [
            "Enter the First Diagonal of Rhombus:1\n",
            "Enter the Second Diagonal of Rhombus:2\n",
            "Area of Rhombus is 1.0\n"
          ]
        }
      ]
    },
    {
      "cell_type": "code",
      "execution_count": null,
      "metadata": {
        "colab": {
          "base_uri": "https://localhost:8080/"
        },
        "id": "Uq5nVdxbACYl",
        "outputId": "000ddcc5-53a5-4216-8b33-97fe53b1a287"
      },
      "outputs": [
        {
          "output_type": "stream",
          "name": "stdout",
          "text": [
            "Enter the Side of Equilateral Triangle:4\n",
            "Area of Equilateral Triangle is 6.928203230275508\n"
          ]
        }
      ],
      "source": [
        "# Write a code to find the area of equilateral triangle(and area should in float)\n",
        "side = float(input(\"Enter the Side of Equilateral Triangle:\"))\n",
        "area = (1.732050807568877*side*side)/4\n",
        "print(\"Area of Equilateral Triangle is\",area)"
      ]
    }
  ]
}